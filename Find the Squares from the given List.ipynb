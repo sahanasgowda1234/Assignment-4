{
 "cells": [
  {
   "cell_type": "code",
   "execution_count": 5,
   "id": "3ab29e29",
   "metadata": {},
   "outputs": [
    {
     "name": "stdout",
     "output_type": "stream",
     "text": [
      "4 5 2 9\n",
      "The Sample list is : [4, 5, 2, 9]\n",
      "Square elements of the list are :  [16, 25, 4, 81]\n"
     ]
    }
   ],
   "source": [
    "#Write a Python program to square the elements of a list using map() function.\n",
    "\n",
    "#Sample List: [4, 5, 2, 9]\n",
    "#Square the elements of the list:\n",
    "#[16, 25, 4, 81]\n",
    "\n",
    "n = list (map(int,input().split()))\n",
    "print (\"The Sample list is :\",n)\n",
    "result = map (lambda x : x*x , n)\n",
    "print (\"Square elements of the list are : \",list (result))"
   ]
  },
  {
   "cell_type": "code",
   "execution_count": null,
   "id": "4bdf9fc6",
   "metadata": {},
   "outputs": [],
   "source": []
  }
 ],
 "metadata": {
  "kernelspec": {
   "display_name": "Python 3 (ipykernel)",
   "language": "python",
   "name": "python3"
  },
  "language_info": {
   "codemirror_mode": {
    "name": "ipython",
    "version": 3
   },
   "file_extension": ".py",
   "mimetype": "text/x-python",
   "name": "python",
   "nbconvert_exporter": "python",
   "pygments_lexer": "ipython3",
   "version": "3.9.12"
  }
 },
 "nbformat": 4,
 "nbformat_minor": 5
}
