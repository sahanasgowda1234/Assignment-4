{
 "cells": [
  {
   "cell_type": "code",
   "execution_count": 7,
   "id": "44290c20",
   "metadata": {},
   "outputs": [
    {
     "name": "stdout",
     "output_type": "stream",
     "text": [
      "1 2 3 4 5 6 7\n",
      "The sample list is : [1, 2, 3, 4, 5, 6, 7]\n",
      "Triple of list numbers are :\n",
      "[3, 6, 9, 12, 15, 18, 21]\n"
     ]
    }
   ],
   "source": [
    "#Write a Python program to triple all numbers of a given list of integers. Use Python map.\n",
    "\n",
    "#sample list: [1, 2, 3, 4, 5, 6, 7]\n",
    "\n",
    "#Triple of list numbers:\n",
    "#[3, 6, 9, 12, 15, 18, 21]\n",
    "\n",
    "n = list(map(int , input().split()))\n",
    "print ( \"The sample list is :\",n)\n",
    "result = map (lambda x : x + x + x , n)\n",
    "print (\"Triple of list numbers are :\")\n",
    "print (list(result))"
   ]
  },
  {
   "cell_type": "code",
   "execution_count": null,
   "id": "14950fb4",
   "metadata": {},
   "outputs": [],
   "source": []
  }
 ],
 "metadata": {
  "kernelspec": {
   "display_name": "Python 3 (ipykernel)",
   "language": "python",
   "name": "python3"
  },
  "language_info": {
   "codemirror_mode": {
    "name": "ipython",
    "version": 3
   },
   "file_extension": ".py",
   "mimetype": "text/x-python",
   "name": "python",
   "nbconvert_exporter": "python",
   "pygments_lexer": "ipython3",
   "version": "3.9.12"
  }
 },
 "nbformat": 4,
 "nbformat_minor": 5
}
