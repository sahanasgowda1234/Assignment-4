{
 "cells": [
  {
   "cell_type": "code",
   "execution_count": 3,
   "id": "7aa35ae6",
   "metadata": {},
   "outputs": [
    {
     "name": "stdout",
     "output_type": "stream",
     "text": [
      "Enter the value :10\n",
      "The lambda function after adding 25 to a given number is :  35\n"
     ]
    }
   ],
   "source": [
    "#Write a Python program to create a lambda function that adds 25 to a given number passed in as an argument.\n",
    "\n",
    "#sample input: 10\n",
    "#sample output: 35\n",
    "\n",
    "Number = int (input(\"Enter the value :\"))\n",
    "add = lambda Number : Number + 25\n",
    "print (\"The lambda function after adding 25 to a given number is : \",add(Number))\n"
   ]
  },
  {
   "cell_type": "code",
   "execution_count": null,
   "id": "c0efe448",
   "metadata": {},
   "outputs": [],
   "source": []
  }
 ],
 "metadata": {
  "kernelspec": {
   "display_name": "Python 3 (ipykernel)",
   "language": "python",
   "name": "python3"
  },
  "language_info": {
   "codemirror_mode": {
    "name": "ipython",
    "version": 3
   },
   "file_extension": ".py",
   "mimetype": "text/x-python",
   "name": "python",
   "nbconvert_exporter": "python",
   "pygments_lexer": "ipython3",
   "version": "3.9.12"
  }
 },
 "nbformat": 4,
 "nbformat_minor": 5
}
